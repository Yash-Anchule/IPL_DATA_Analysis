{
 "cells": [
  {
   "cell_type": "markdown",
   "id": "8675bf3f-5abb-447c-b3e2-daca9627cc7e",
   "metadata": {},
   "source": [
    "Creating Spark Session Here"
   ]
  },
  {
   "cell_type": "code",
   "execution_count": 4,
   "id": "ea904327-92c4-4e0e-b84e-ffc817d24f52",
   "metadata": {},
   "outputs": [],
   "source": [
    "from pyspark.sql import SparkSession\n",
    "spark = SparkSession.builder.appName(\"ipl Bolte\").getOrCreate()\n",
    "# spark"
   ]
  },
  {
   "cell_type": "code",
   "execution_count": 14,
   "id": "9c13b656-f4fc-4190-b53f-e1e627131f8e",
   "metadata": {},
   "outputs": [],
   "source": [
    "file_path_deliveries = './deliveries.csv'\n",
    "df_del = spark.read.format('csv').option(\"header\",\"true\").load(file_path_deliveries)"
   ]
  },
  {
   "cell_type": "code",
   "execution_count": 16,
   "id": "ec6178a4-703f-44d7-813d-06f198ae3f14",
   "metadata": {},
   "outputs": [
    {
     "name": "stdout",
     "output_type": "stream",
     "text": [
      "+--------+------+--------------------+--------------------+----+----+-----------+---------+-----------+------------+----------+----------+-----------+---------+----------------+--------------+-------+\n",
      "|match_id|inning|        batting_team|        bowling_team|over|ball|     batter|   bowler|non_striker|batsman_runs|extra_runs|total_runs|extras_type|is_wicket|player_dismissed|dismissal_kind|fielder|\n",
      "+--------+------+--------------------+--------------------+----+----+-----------+---------+-----------+------------+----------+----------+-----------+---------+----------------+--------------+-------+\n",
      "|  335982|     1|Kolkata Knight Ri...|Royal Challengers...|   0|   1| SC Ganguly|  P Kumar|BB McCullum|           0|         1|         1|    legbyes|        0|              NA|            NA|     NA|\n",
      "|  335982|     1|Kolkata Knight Ri...|Royal Challengers...|   0|   2|BB McCullum|  P Kumar| SC Ganguly|           0|         0|         0|       NULL|        0|              NA|            NA|     NA|\n",
      "|  335982|     1|Kolkata Knight Ri...|Royal Challengers...|   0|   3|BB McCullum|  P Kumar| SC Ganguly|           0|         1|         1|      wides|        0|              NA|            NA|     NA|\n",
      "|  335982|     1|Kolkata Knight Ri...|Royal Challengers...|   0|   4|BB McCullum|  P Kumar| SC Ganguly|           0|         0|         0|       NULL|        0|              NA|            NA|     NA|\n",
      "|  335982|     1|Kolkata Knight Ri...|Royal Challengers...|   0|   5|BB McCullum|  P Kumar| SC Ganguly|           0|         0|         0|       NULL|        0|              NA|            NA|     NA|\n",
      "|  335982|     1|Kolkata Knight Ri...|Royal Challengers...|   0|   6|BB McCullum|  P Kumar| SC Ganguly|           0|         0|         0|       NULL|        0|              NA|            NA|     NA|\n",
      "|  335982|     1|Kolkata Knight Ri...|Royal Challengers...|   0|   7|BB McCullum|  P Kumar| SC Ganguly|           0|         1|         1|    legbyes|        0|              NA|            NA|     NA|\n",
      "|  335982|     1|Kolkata Knight Ri...|Royal Challengers...|   1|   1|BB McCullum|   Z Khan| SC Ganguly|           0|         0|         0|       NULL|        0|              NA|            NA|     NA|\n",
      "|  335982|     1|Kolkata Knight Ri...|Royal Challengers...|   1|   2|BB McCullum|   Z Khan| SC Ganguly|           4|         0|         4|       NULL|        0|              NA|            NA|     NA|\n",
      "|  335982|     1|Kolkata Knight Ri...|Royal Challengers...|   1|   3|BB McCullum|   Z Khan| SC Ganguly|           4|         0|         4|       NULL|        0|              NA|            NA|     NA|\n",
      "|  335982|     1|Kolkata Knight Ri...|Royal Challengers...|   1|   4|BB McCullum|   Z Khan| SC Ganguly|           6|         0|         6|       NULL|        0|              NA|            NA|     NA|\n",
      "|  335982|     1|Kolkata Knight Ri...|Royal Challengers...|   1|   5|BB McCullum|   Z Khan| SC Ganguly|           4|         0|         4|       NULL|        0|              NA|            NA|     NA|\n",
      "|  335982|     1|Kolkata Knight Ri...|Royal Challengers...|   1|   6|BB McCullum|   Z Khan| SC Ganguly|           0|         0|         0|       NULL|        0|              NA|            NA|     NA|\n",
      "|  335982|     1|Kolkata Knight Ri...|Royal Challengers...|   2|   1| SC Ganguly|  P Kumar|BB McCullum|           0|         0|         0|       NULL|        0|              NA|            NA|     NA|\n",
      "|  335982|     1|Kolkata Knight Ri...|Royal Challengers...|   2|   2| SC Ganguly|  P Kumar|BB McCullum|           0|         0|         0|       NULL|        0|              NA|            NA|     NA|\n",
      "|  335982|     1|Kolkata Knight Ri...|Royal Challengers...|   2|   3| SC Ganguly|  P Kumar|BB McCullum|           0|         1|         1|    legbyes|        0|              NA|            NA|     NA|\n",
      "|  335982|     1|Kolkata Knight Ri...|Royal Challengers...|   2|   4|BB McCullum|  P Kumar| SC Ganguly|           4|         0|         4|       NULL|        0|              NA|            NA|     NA|\n",
      "|  335982|     1|Kolkata Knight Ri...|Royal Challengers...|   2|   5|BB McCullum|  P Kumar| SC Ganguly|           1|         0|         1|       NULL|        0|              NA|            NA|     NA|\n",
      "|  335982|     1|Kolkata Knight Ri...|Royal Challengers...|   2|   6| SC Ganguly|  P Kumar|BB McCullum|           0|         0|         0|       NULL|        0|              NA|            NA|     NA|\n",
      "|  335982|     1|Kolkata Knight Ri...|Royal Challengers...|   3|   1|BB McCullum|AA Noffke| SC Ganguly|           0|         5|         5|      wides|        0|              NA|            NA|     NA|\n",
      "+--------+------+--------------------+--------------------+----+----+-----------+---------+-----------+------------+----------+----------+-----------+---------+----------------+--------------+-------+\n",
      "only showing top 20 rows\n",
      "\n"
     ]
    }
   ],
   "source": [
    "df_del.show()"
   ]
  },
  {
   "cell_type": "code",
   "execution_count": 18,
   "id": "df96504c-e6d1-406a-8c98-6ab6fc9fadbf",
   "metadata": {},
   "outputs": [
    {
     "name": "stdout",
     "output_type": "stream",
     "text": [
      "+------+------+----------+---------------+--------------------+--------------------+--------------------+--------------------+-------------+--------------------+-------+-------------+-----------+------------+----------+-----------+--------------+\n",
      "|    id|season|match_type|player_of_match|               venue|               team1|               team2|         toss_winner|toss_decision|              winner| result|result_margin|target_runs|target_overs|super_over|    umpire1|       umpire2|\n",
      "+------+------+----------+---------------+--------------------+--------------------+--------------------+--------------------+-------------+--------------------+-------+-------------+-----------+------------+----------+-----------+--------------+\n",
      "|335982|  2008|    League|    BB McCullum|M Chinnaswamy Sta...|Royal Challengers...|Kolkata Knight Ri...|Royal Challengers...|        field|Kolkata Knight Ri...|   runs|          140|        223|          20|         N|  Asad Rauf|   RE Koertzen|\n",
      "|335983|  2008|    League|     MEK Hussey|Punjab Cricket As...|        Punjab Kings| Chennai Super Kings| Chennai Super Kings|          bat| Chennai Super Kings|   runs|           33|        241|          20|         N|  MR Benson|    SL Shastri|\n",
      "|335984|  2008|    League|    MF Maharoof|    Feroz Shah Kotla|      Delhi Capitals|    Rajasthan Royals|    Rajasthan Royals|          bat|      Delhi Capitals|wickets|            9|        130|          20|         N|  Aleem Dar|GA Pratapkumar|\n",
      "|335985|  2008|    League|     MV Boucher|    Wankhede Stadium|      Mumbai Indians|Royal Challengers...|      Mumbai Indians|          bat|Royal Challengers...|wickets|            5|        166|          20|         N|   SJ Davis|     DJ Harper|\n",
      "|335986|  2008|    League|      DJ Hussey|        Eden Gardens|Kolkata Knight Ri...|     Deccan Chargers|     Deccan Chargers|          bat|Kolkata Knight Ri...|wickets|            5|        111|          20|         N|  BF Bowden|   K Hariharan|\n",
      "|335987|  2008|    League|      SR Watson|Sawai Mansingh St...|    Rajasthan Royals|        Punjab Kings|        Punjab Kings|          bat|    Rajasthan Royals|wickets|            6|        167|          20|         N|  Aleem Dar|     RB Tiffin|\n",
      "|335988|  2008|    League|       V Sehwag|Rajiv Gandhi Inte...|     Deccan Chargers|      Delhi Capitals|     Deccan Chargers|          bat|      Delhi Capitals|wickets|            9|        143|          20|         N|  IL Howell|     AM Saheba|\n",
      "|335989|  2008|    League|      ML Hayden|MA Chidambaram St...| Chennai Super Kings|      Mumbai Indians|      Mumbai Indians|        field| Chennai Super Kings|   runs|            6|        209|          20|         N|  DJ Harper|GA Pratapkumar|\n",
      "|335990|  2008|    League|      YK Pathan|Rajiv Gandhi Inte...|     Deccan Chargers|    Rajasthan Royals|    Rajasthan Royals|        field|    Rajasthan Royals|wickets|            3|        215|          20|         N|  Asad Rauf|     MR Benson|\n",
      "|335991|  2008|    League|  KC Sangakkara|Punjab Cricket As...|        Punjab Kings|      Mumbai Indians|      Mumbai Indians|        field|        Punjab Kings|   runs|           66|        183|          20|         N|  Aleem Dar|     AM Saheba|\n",
      "|335992|  2008|    League|      SR Watson|M Chinnaswamy Sta...|Royal Challengers...|    Rajasthan Royals|    Rajasthan Royals|        field|    Rajasthan Royals|wickets|            7|        136|          20|         N|  MR Benson|     IL Howell|\n",
      "|335993|  2008|    League|       JDP Oram|MA Chidambaram St...| Chennai Super Kings|Kolkata Knight Ri...|Kolkata Knight Ri...|          bat| Chennai Super Kings|wickets|            9|        148|          20|         N|  BF Bowden|AV Jayaprakash|\n",
      "|335994|  2008|    League|   AC Gilchrist|Dr DY Patil Sport...|      Mumbai Indians|     Deccan Chargers|     Deccan Chargers|        field|     Deccan Chargers|wickets|           10|        155|          20|         N|  Asad Rauf|    SL Shastri|\n",
      "|335995|  2008|    League|      SM Katich|Punjab Cricket As...|        Punjab Kings|      Delhi Capitals|      Delhi Capitals|          bat|        Punjab Kings|wickets|            4|        159|          20|         N|RE Koertzen|     I Shivram|\n",
      "|335996|  2008|    League|       MS Dhoni|M Chinnaswamy Sta...|Royal Challengers...| Chennai Super Kings| Chennai Super Kings|          bat| Chennai Super Kings|   runs|           13|        179|          20|         N|BR Doctrove|     RB Tiffin|\n",
      "|335997|  2008|    League|  ST Jayasuriya|        Eden Gardens|Kolkata Knight Ri...|      Mumbai Indians|Kolkata Knight Ri...|          bat|      Mumbai Indians|wickets|            7|        138|          20|         N|  BF Bowden|AV Jayaprakash|\n",
      "|335998|  2008|    League|     GD McGrath|    Feroz Shah Kotla|      Delhi Capitals|Royal Challengers...|Royal Challengers...|        field|      Delhi Capitals|   runs|           10|        192|          20|         N|  Aleem Dar|     I Shivram|\n",
      "|335999|  2008|    League|       SE Marsh|Rajiv Gandhi Inte...|     Deccan Chargers|        Punjab Kings|        Punjab Kings|        field|        Punjab Kings|wickets|            7|        165|          20|         N|BR Doctrove|     RB Tiffin|\n",
      "|336000|  2008|    League|    SA Asnodkar|Sawai Mansingh St...|    Rajasthan Royals|Kolkata Knight Ri...|    Rajasthan Royals|          bat|    Rajasthan Royals|   runs|           45|        197|          20|         N|RE Koertzen|GA Pratapkumar|\n",
      "|336001|  2008|    League|       V Sehwag|MA Chidambaram St...| Chennai Super Kings|      Delhi Capitals| Chennai Super Kings|          bat|      Delhi Capitals|wickets|            8|        170|          20|         N|  BF Bowden|   K Hariharan|\n",
      "+------+------+----------+---------------+--------------------+--------------------+--------------------+--------------------+-------------+--------------------+-------+-------------+-----------+------------+----------+-----------+--------------+\n",
      "only showing top 20 rows\n",
      "\n"
     ]
    }
   ],
   "source": [
    "file_path_matches = './matches.csv'\n",
    "df_match = spark.read.format('csv').option(\"header\",\"true\").load(file_path_matches)\n",
    "df_match.show()"
   ]
  },
  {
   "cell_type": "code",
   "execution_count": 20,
   "id": "8b2e0e91-cfe1-4d20-9a91-961d72dca42f",
   "metadata": {},
   "outputs": [
    {
     "data": {
      "text/plain": [
       "['id',\n",
       " 'season',\n",
       " 'match_type',\n",
       " 'player_of_match',\n",
       " 'venue',\n",
       " 'team1',\n",
       " 'team2',\n",
       " 'toss_winner',\n",
       " 'toss_decision',\n",
       " 'winner',\n",
       " 'result',\n",
       " 'result_margin',\n",
       " 'target_runs',\n",
       " 'target_overs',\n",
       " 'super_over',\n",
       " 'umpire1',\n",
       " 'umpire2']"
      ]
     },
     "execution_count": 20,
     "metadata": {},
     "output_type": "execute_result"
    }
   ],
   "source": [
    "df_match.columns"
   ]
  },
  {
   "cell_type": "code",
   "execution_count": 28,
   "id": "d02c758a-1680-4b9b-bc64-3a6bfc742dea",
   "metadata": {},
   "outputs": [
    {
     "name": "stdout",
     "output_type": "stream",
     "text": [
      "+--------------------+\n",
      "|              winner|\n",
      "+--------------------+\n",
      "| Sunrisers Hyderabad|\n",
      "|Lucknow Super Giants|\n",
      "| Chennai Super Kings|\n",
      "|      Gujarat Titans|\n",
      "|                  NA|\n",
      "|Rising Pune Super...|\n",
      "|     Deccan Chargers|\n",
      "|Kochi Tuskers Kerala|\n",
      "|    Rajasthan Royals|\n",
      "|       Gujarat Lions|\n",
      "|Royal Challengers...|\n",
      "|Kolkata Knight Ri...|\n",
      "|        Punjab Kings|\n",
      "|       Pune Warriors|\n",
      "|      Delhi Capitals|\n",
      "|      Mumbai Indians|\n",
      "+--------------------+\n",
      "\n"
     ]
    }
   ],
   "source": [
    "df_match.select('winner').distinct().show()"
   ]
  },
  {
   "cell_type": "markdown",
   "id": "85548ee2-5d22-4664-9e96-e456bb0ba3f1",
   "metadata": {},
   "source": [
    "NOW Clearing the matches where there is no winner and then making our data set clean\n"
   ]
  },
  {
   "cell_type": "code",
   "execution_count": 37,
   "id": "57c99a68-1180-437a-b069-9b86c45fdf9d",
   "metadata": {},
   "outputs": [
    {
     "name": "stdout",
     "output_type": "stream",
     "text": [
      "+-------+------+----------+---------------+--------------------+--------------------+-------------------+--------------------+-------------+------+---------+-------------+-----------+------------+----------+---------------+-------------+\n",
      "|     id|season|match_type|player_of_match|               venue|               team1|              team2|         toss_winner|toss_decision|winner|   result|result_margin|target_runs|target_overs|super_over|        umpire1|      umpire2|\n",
      "+-------+------+----------+---------------+--------------------+--------------------+-------------------+--------------------+-------------+------+---------+-------------+-----------+------------+----------+---------------+-------------+\n",
      "| 501265|  2011|    League|             NA|    Feroz Shah Kotla|      Delhi Capitals|      Pune Warriors|      Delhi Capitals|          bat|    NA|no result|         NULL|       NULL|        NULL|         N|      SS Hazare|    RJ Tucker|\n",
      "| 829763|  2015|    League|             NA|M Chinnaswamy Sta...|Royal Challengers...|   Rajasthan Royals|    Rajasthan Royals|        field|    NA|no result|         NULL|       NULL|        NULL|         N|      JD Cloete|    PG Pathak|\n",
      "| 829813|  2015|    League|             NA|M Chinnaswamy Sta...|Royal Challengers...|     Delhi Capitals|Royal Challengers...|        field|    NA|no result|         NULL|        188|          20|         N|HDPK Dharmasena| K Srinivasan|\n",
      "|1178424|  2019|    League|             NA|M Chinnaswamy Sta...|Royal Challengers...|   Rajasthan Royals|    Rajasthan Royals|        field|    NA|no result|         NULL|         63|           5|         N|       NJ Llong|    UV Gandhe|\n",
      "|1359519|  2023|    League|             NA|Bharat Ratna Shri...|Lucknow Super Giants|Chennai Super Kings| Chennai Super Kings|        field|    NA|no result|         NULL|       NULL|        NULL|         N|   AK Chaudhary|NA Patwardhan|\n",
      "+-------+------+----------+---------------+--------------------+--------------------+-------------------+--------------------+-------------+------+---------+-------------+-----------+------------+----------+---------------+-------------+\n",
      "\n"
     ]
    },
    {
     "ename": "AttributeError",
     "evalue": "'NoneType' object has no attribute 'style'",
     "output_type": "error",
     "traceback": [
      "\u001b[1;31m---------------------------------------------------------------------------\u001b[0m",
      "\u001b[1;31mAttributeError\u001b[0m                            Traceback (most recent call last)",
      "Cell \u001b[1;32mIn[37], line 1\u001b[0m\n\u001b[1;32m----> 1\u001b[0m df_match[df_match[\u001b[38;5;124m'\u001b[39m\u001b[38;5;124mwinner\u001b[39m\u001b[38;5;124m'\u001b[39m]\u001b[38;5;241m==\u001b[39m\u001b[38;5;124m'\u001b[39m\u001b[38;5;124mNA\u001b[39m\u001b[38;5;124m'\u001b[39m]\u001b[38;5;241m.\u001b[39mshow()\u001b[38;5;241m.\u001b[39mstyle\u001b[38;5;241m.\u001b[39mset_sticky()\u001b[38;5;241m.\u001b[39mset_table_attributes(\u001b[38;5;124m\"\u001b[39m\u001b[38;5;124mstyle=\u001b[39m\u001b[38;5;124m'\u001b[39m\u001b[38;5;124moverflow-x: auto; display: block;\u001b[39m\u001b[38;5;124m'\u001b[39m\u001b[38;5;124m\"\u001b[39m)\n",
      "\u001b[1;31mAttributeError\u001b[0m: 'NoneType' object has no attribute 'style'"
     ]
    }
   ],
   "source": [
    "df_match[df_match['winner']=='NA'].show()"
   ]
  },
  {
   "cell_type": "code",
   "execution_count": 56,
   "id": "112b8843-d41c-4180-b189-94b4e802c3c3",
   "metadata": {},
   "outputs": [],
   "source": [
    "df_match_cleaned = df_match.where(df_match[\"winner\"] != \"NA\")"
   ]
  },
  {
   "cell_type": "code",
   "execution_count": 58,
   "id": "b91d2e01-4f30-4645-9dc7-8441edbaffc9",
   "metadata": {},
   "outputs": [
    {
     "name": "stdout",
     "output_type": "stream",
     "text": [
      "+---+------+----------+---------------+-----+-----+-----+-----------+-------------+------+------+-------------+-----------+------------+----------+-------+-------+\n",
      "| id|season|match_type|player_of_match|venue|team1|team2|toss_winner|toss_decision|winner|result|result_margin|target_runs|target_overs|super_over|umpire1|umpire2|\n",
      "+---+------+----------+---------------+-----+-----+-----+-----------+-------------+------+------+-------------+-----------+------------+----------+-------+-------+\n",
      "+---+------+----------+---------------+-----+-----+-----+-----------+-------------+------+------+-------------+-----------+------------+----------+-------+-------+\n",
      "\n"
     ]
    }
   ],
   "source": [
    "df_match_cleaned[df_match_cleaned['winner']==\"NA\"].show()"
   ]
  },
  {
   "cell_type": "code",
   "execution_count": 62,
   "id": "6504182b-8ee4-4de4-bbd7-2c17bda30a56",
   "metadata": {},
   "outputs": [
    {
     "name": "stdout",
     "output_type": "stream",
     "text": [
      "+------+------+----------+---------------+--------------------+--------------------+-------------------+--------------------+-------------+--------------------+-------+-------------+-----------+------------+----------+-----------+-----------+\n",
      "|    id|season|match_type|player_of_match|               venue|               team1|              team2|         toss_winner|toss_decision|              winner| result|result_margin|target_runs|target_overs|super_over|    umpire1|    umpire2|\n",
      "+------+------+----------+---------------+--------------------+--------------------+-------------------+--------------------+-------------+--------------------+-------+-------------+-----------+------------+----------+-----------+-----------+\n",
      "|336038|  2008|Semi Final|      SR Watson|    Wankhede Stadium|      Delhi Capitals|   Rajasthan Royals|      Delhi Capitals|        field|    Rajasthan Royals|   runs|          105|        193|          20|         N|  BF Bowden|RE Koertzen|\n",
      "|336039|  2008|Semi Final|        M Ntini|    Wankhede Stadium| Chennai Super Kings|       Punjab Kings|        Punjab Kings|          bat| Chennai Super Kings|wickets|            9|        113|          20|         N|  Asad Rauf|  DJ Harper|\n",
      "|392237|  2009|Semi Final|   AC Gilchrist|     SuperSport Park|      Delhi Capitals|    Deccan Chargers|     Deccan Chargers|        field|     Deccan Chargers|wickets|            6|        154|          20|         N|BR Doctrove|  DJ Harper|\n",
      "|392238|  2009|Semi Final|      MK Pandey|New Wanderers Sta...|Royal Challengers...|Chennai Super Kings|Royal Challengers...|        field|Royal Challengers...|wickets|            6|        147|          20|         N|RE Koertzen| SJA Taufel|\n",
      "|419162|  2010|Semi Final|     KA Pollard|Dr DY Patil Sport...|Royal Challengers...|     Mumbai Indians|      Mumbai Indians|          bat|      Mumbai Indians|   runs|           35|        185|          20|         N|BR Doctrove|  RB Tiffin|\n",
      "|419163|  2010|Semi Final|   DE Bollinger|Dr DY Patil Sport...| Chennai Super Kings|    Deccan Chargers| Chennai Super Kings|          bat| Chennai Super Kings|   runs|           38|        143|          20|         N|BR Doctrove|  RB Tiffin|\n",
      "+------+------+----------+---------------+--------------------+--------------------+-------------------+--------------------+-------------+--------------------+-------+-------------+-----------+------------+----------+-----------+-----------+\n",
      "\n"
     ]
    }
   ],
   "source": [
    "df_match_cleaned[df_match_cleaned['match_type']==\"Semi Final\"].show()"
   ]
  },
  {
   "cell_type": "markdown",
   "id": "d60d86c1-824b-40cd-895a-eea9a2cdd24c",
   "metadata": {},
   "source": [
    "As from 2008 to 2010 the qualifiers were called the semi final so we have to maually degrade the semifals into qf 1 and qf2 "
   ]
  },
  {
   "cell_type": "code",
   "execution_count": 65,
   "id": "315594f4-9f39-4e67-a039-d19acc8c8499",
   "metadata": {},
   "outputs": [],
   "source": [
    "import shutil\n",
    "\n",
    "# Define file path\n",
    "output_folder = \"matches_cleaned\"\n",
    "\n",
    "# Save DataFrame to CSV in a folder\n",
    "df_match_nw.coalesce(1).write.mode(\"overwrite\").option(\"header\", \"true\").csv(output_folder)\n",
    "\n",
    "# Find the generated CSV file inside the folder\n",
    "import os\n",
    "csv_file = [f for f in os.listdir(output_folder) if f.endswith(\".csv\")][0]\n",
    "\n",
    "# Rename and move it outside the folder\n",
    "shutil.move(f\"{output_folder}/{csv_file}\", \"matches_cleaned.csv\")\n",
    "\n",
    "# Remove the empty folder\n",
    "shutil.rmtree(output_folder)"
   ]
  },
  {
   "cell_type": "code",
   "execution_count": null,
   "id": "a53b246d-dcbb-4327-b1ef-405ef2237310",
   "metadata": {},
   "outputs": [],
   "source": []
  }
 ],
 "metadata": {
  "kernelspec": {
   "display_name": "Python 3 (ipykernel)",
   "language": "python",
   "name": "python3"
  },
  "language_info": {
   "codemirror_mode": {
    "name": "ipython",
    "version": 3
   },
   "file_extension": ".py",
   "mimetype": "text/x-python",
   "name": "python",
   "nbconvert_exporter": "python",
   "pygments_lexer": "ipython3",
   "version": "3.12.4"
  }
 },
 "nbformat": 4,
 "nbformat_minor": 5
}
